{
 "cells": [
  {
   "cell_type": "code",
   "execution_count": 1,
   "metadata": {},
   "outputs": [],
   "source": [
    "import pandas as pd\n",
    "import numpy as np\n",
    "import scoring as sc\n",
    "\n",
    "from sklearn.model_selection import train_test_split as tts\n",
    "from sklearn.linear_model import LogisticRegression as lr\n",
    "import sklearn.metrics as metrics"
   ]
  },
  {
   "cell_type": "code",
   "execution_count": 2,
   "metadata": {},
   "outputs": [],
   "source": [
    "df=pd.read_csv('gc.csv')\n",
    "vardict=pd.read_csv('dict.csv')\n",
    "df['Risk']=df['Risk'].apply(lambda x: 1 if x=='bad' else 0)\n",
    "df=sc.renameCols(df,vardict,False)\n",
    "label,disc,cont=sc.getVarTypes(vardict)\n",
    "# sc.discSummary(df)\n",
    "\n",
    "# ### No row needs to be removed from this example in this stage ###\n",
    "# vardict.loc[vardict['new'].isin(['Age','Sex']),'isDel']=1\n",
    "# df,vardict=cl.delFromVardict(df,vardict)"
   ]
  },
  {
   "cell_type": "code",
   "execution_count": 3,
   "metadata": {},
   "outputs": [
    {
     "name": "stdout",
     "output_type": "stream",
     "text": [
      "#########################################\n",
      "####It's using Chi-Merge algorithm...####\n",
      "#########################################\n",
      "\n",
      "Doing continous feature: Age\n",
      "\n",
      "Doing continous feature: Credit amount\n",
      "Equal Depth Binning is required, number of bins is: 100\n",
      "\n",
      "Doing continous feature: Duration\n",
      "\n",
      "Doing discrete feature: Sex\n",
      "\n",
      "Doing discrete feature: Job\n",
      "\n",
      "Doing discrete feature: Housing\n",
      "\n",
      "Doing discrete feature: Saving accounts\n",
      "\n",
      "Doing discrete feature: Checking account\n",
      "\n",
      "Doing discrete feature: Purpose\n",
      "\n",
      "Finished\n"
     ]
    }
   ],
   "source": [
    "df1=sc.binData(df,vardict)"
   ]
  },
  {
   "cell_type": "code",
   "execution_count": 6,
   "metadata": {},
   "outputs": [],
   "source": [
    "bidict=sc.getBiDict(df1,label)"
   ]
  },
  {
   "cell_type": "code",
   "execution_count": 7,
   "metadata": {},
   "outputs": [
    {
     "data": {
      "text/html": [
       "<div>\n",
       "<style scoped>\n",
       "    .dataframe tbody tr th:only-of-type {\n",
       "        vertical-align: middle;\n",
       "    }\n",
       "\n",
       "    .dataframe tbody tr th {\n",
       "        vertical-align: top;\n",
       "    }\n",
       "\n",
       "    .dataframe thead th {\n",
       "        text-align: right;\n",
       "    }\n",
       "</style>\n",
       "<table border=\"1\" class=\"dataframe\">\n",
       "  <thead>\n",
       "    <tr style=\"text-align: right;\">\n",
       "      <th></th>\n",
       "      <th>Credit amount</th>\n",
       "      <th>total</th>\n",
       "      <th>good</th>\n",
       "      <th>bad</th>\n",
       "      <th>totalDist</th>\n",
       "      <th>goodDist</th>\n",
       "      <th>badDist</th>\n",
       "      <th>goodRate</th>\n",
       "      <th>badRate</th>\n",
       "      <th>woe</th>\n",
       "      <th>iv</th>\n",
       "    </tr>\n",
       "  </thead>\n",
       "  <tbody>\n",
       "    <tr>\n",
       "      <th>0</th>\n",
       "      <td>(-inf, 1282.0]</td>\n",
       "      <td>211</td>\n",
       "      <td>144</td>\n",
       "      <td>67</td>\n",
       "      <td>0.211</td>\n",
       "      <td>0.223</td>\n",
       "      <td>0.206</td>\n",
       "      <td>0.682</td>\n",
       "      <td>0.318</td>\n",
       "      <td>-0.082</td>\n",
       "      <td>0.001</td>\n",
       "    </tr>\n",
       "    <tr>\n",
       "      <th>1</th>\n",
       "      <td>(1282.0, 3446.32]</td>\n",
       "      <td>469</td>\n",
       "      <td>352</td>\n",
       "      <td>117</td>\n",
       "      <td>0.469</td>\n",
       "      <td>0.390</td>\n",
       "      <td>0.503</td>\n",
       "      <td>0.751</td>\n",
       "      <td>0.249</td>\n",
       "      <td>0.254</td>\n",
       "      <td>0.029</td>\n",
       "    </tr>\n",
       "    <tr>\n",
       "      <th>2</th>\n",
       "      <td>(3446.32, 3913.26]</td>\n",
       "      <td>60</td>\n",
       "      <td>55</td>\n",
       "      <td>5</td>\n",
       "      <td>0.060</td>\n",
       "      <td>0.017</td>\n",
       "      <td>0.079</td>\n",
       "      <td>0.917</td>\n",
       "      <td>0.083</td>\n",
       "      <td>1.551</td>\n",
       "      <td>0.096</td>\n",
       "    </tr>\n",
       "    <tr>\n",
       "      <th>3</th>\n",
       "      <td>(3913.26, inf]</td>\n",
       "      <td>260</td>\n",
       "      <td>149</td>\n",
       "      <td>111</td>\n",
       "      <td>0.260</td>\n",
       "      <td>0.370</td>\n",
       "      <td>0.213</td>\n",
       "      <td>0.573</td>\n",
       "      <td>0.427</td>\n",
       "      <td>-0.553</td>\n",
       "      <td>0.087</td>\n",
       "    </tr>\n",
       "  </tbody>\n",
       "</table>\n",
       "</div>"
      ],
      "text/plain": [
       "        Credit amount  total  good  bad  totalDist  goodDist  badDist  \\\n",
       "0      (-inf, 1282.0]    211   144   67      0.211     0.223    0.206   \n",
       "1   (1282.0, 3446.32]    469   352  117      0.469     0.390    0.503   \n",
       "2  (3446.32, 3913.26]     60    55    5      0.060     0.017    0.079   \n",
       "3      (3913.26, inf]    260   149  111      0.260     0.370    0.213   \n",
       "\n",
       "   goodRate  badRate    woe     iv  \n",
       "0     0.682    0.318 -0.082  0.001  \n",
       "1     0.751    0.249  0.254  0.029  \n",
       "2     0.917    0.083  1.551  0.096  \n",
       "3     0.573    0.427 -0.553  0.087  "
      ]
     },
     "execution_count": 7,
     "metadata": {},
     "output_type": "execute_result"
    }
   ],
   "source": [
    "bidict['Credit amount']"
   ]
  },
  {
   "cell_type": "code",
   "execution_count": 23,
   "metadata": {},
   "outputs": [],
   "source": [
    "# modified credit amount\n",
    "sc.bivariate(pd.DataFrame({'y':df['y'],\n",
    "                           'Credit amount':sc.manuallyBin(df,\n",
    "                                                          'Credit amount',\n",
    "                                                          'cont',\n",
    "                                                          [-np.inf,1300,3500,4000,np.inf])}\n",
    "                         ),'Credit amount','y')[0]\n",
    "df1['Credit amount']=sc.manuallyBin(df,'Credit amount','cont',[-np.inf,1300,3500,4000,np.inf])"
   ]
  },
  {
   "cell_type": "code",
   "execution_count": 25,
   "metadata": {},
   "outputs": [],
   "source": [
    "bidict=sc.getBiDict(df1,label)\n",
    "ivtable=sc.ivTable(bidict)"
   ]
  },
  {
   "cell_type": "code",
   "execution_count": 27,
   "metadata": {},
   "outputs": [],
   "source": [
    "df1,vardict,bidict=sc.featureFilter(df1,vardict,bidict,ivtable)"
   ]
  },
  {
   "cell_type": "code",
   "execution_count": 28,
   "metadata": {},
   "outputs": [],
   "source": [
    "df1=sc.mapWOE(df1,bidict,label)"
   ]
  },
  {
   "cell_type": "code",
   "execution_count": 29,
   "metadata": {},
   "outputs": [
    {
     "name": "stdout",
     "output_type": "stream",
     "text": [
      "**Precision is: 0.7233333333333334\n",
      "\n",
      "**Confusion matrix is:\n",
      " [[179  18]\n",
      " [ 65  38]]\n",
      "\n",
      "**Classification report is:\n",
      "               precision    recall  f1-score   support\n",
      "\n",
      "           0       0.73      0.91      0.81       197\n",
      "           1       0.68      0.37      0.48       103\n",
      "\n",
      "   micro avg       0.72      0.72      0.72       300\n",
      "   macro avg       0.71      0.64      0.64       300\n",
      "weighted avg       0.71      0.72      0.70       300\n",
      "\n"
     ]
    }
   ],
   "source": [
    "### Modelling ###\n",
    "#################\n",
    "trainx,testx,trainy,testy=tts(df1.iloc[:,1:],df1[label],test_size=0.3)\n",
    "m=lr(penalty='l1', C=0.9, solver='saga', n_jobs=-1)\n",
    "m.fit(trainx,trainy)\n",
    "pred=m.predict(testx)\n",
    "pred_prob=m.predict_proba(testx)[:,1]\n",
    "\n",
    "# 查看测试结果\n",
    "cm=metrics.confusion_matrix(testy, pred)\n",
    "print('**Precision is:',(cm[0][0]+cm[1][1])/(sum(cm[0])+sum(cm[1])))\n",
    "print('\\n**Confusion matrix is:\\n',cm)\n",
    "print('\\n**Classification report is:\\n',metrics.classification_report(testy, pred))"
   ]
  },
  {
   "cell_type": "code",
   "execution_count": 30,
   "metadata": {},
   "outputs": [
    {
     "data": {
      "image/png": "[encoded data removed]",
      "text/plain": [
       "<Figure size 432x288 with 1 Axes>"
      ]
     },
     "metadata": {
      "needs_background": "light"
     },
     "output_type": "display_data"
    },
    {
     "data": {
      "image/png": "[encoded data removed]",
      "text/plain": [
       "<Figure size 432x288 with 1 Axes>"
      ]
     },
     "metadata": {
      "needs_background": "light"
     },
     "output_type": "display_data"
    },
    {
     "name": "stdout",
     "output_type": "stream",
     "text": [
      "Confusion matrix, without normalization\n",
      "[[179  18]\n",
      " [ 65  38]]\n"
     ]
    },
    {
     "data": {
      "image/png": "[encoded data removed]",
      "text/plain": [
       "<Figure size 432x288 with 2 Axes>"
      ]
     },
     "metadata": {
      "needs_background": "light"
     },
     "output_type": "display_data"
    }
   ],
   "source": [
    "### Evaluation ###\n",
    "##################\n",
    "sc.plotROC(testy,pred_prob)\n",
    "sc.plotKS(testy,pred_prob)\n",
    "sc.plotCM(metrics.confusion_matrix(testy,pred), classes=df[label].unique(),\n",
    "          title='Confusion matrix, without normalization')"
   ]
  },
  {
   "cell_type": "code",
   "execution_count": 31,
   "metadata": {},
   "outputs": [],
   "source": [
    "### Scoring ###\n",
    "###############\n",
    "scored,basescore=sc.scoring(trainx.reset_index(drop=True),\n",
    "                            trainy.reset_index(drop=True),\n",
    "                            'y',\n",
    "                            m,\n",
    "                            bidict)"
   ]
  }
 ],
 "metadata": {
  "kernelspec": {
   "display_name": "Python 3",
   "language": "python",
   "name": "python3"
  },
  "language_info": {
   "codemirror_mode": {
    "name": "ipython",
    "version": 3
   },
   "file_extension": ".py",
   "mimetype": "text/x-python",
   "name": "python",
   "nbconvert_exporter": "python",
   "pygments_lexer": "ipython3",
   "version": "3.7.1"
  }
 },
 "nbformat": 4,
 "nbformat_minor": 2
}
